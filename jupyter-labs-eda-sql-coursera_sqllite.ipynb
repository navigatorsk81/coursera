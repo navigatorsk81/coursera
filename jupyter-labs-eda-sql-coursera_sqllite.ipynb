{
 "cells": [
  {
   "cell_type": "markdown",
   "metadata": {},
   "source": [
    "<p style=\"text-align:center\">\n",
    "    <a href=\"https://skills.network/?utm_medium=Exinfluencer&utm_source=Exinfluencer&utm_content=000026UJ&utm_term=10006555&utm_id=NA-SkillsNetwork-Channel-SkillsNetworkCoursesIBMDS0321ENSkillsNetwork865-2023-01-01\">\n",
    "    <img src=\"https://cf-courses-data.s3.us.cloud-object-storage.appdomain.cloud/assets/logos/SN_web_lightmode.png\" width=\"200\" alt=\"Skills Network Logo\"  />\n",
    "    </a>\n",
    "</p>\n",
    "\n",
    "<h1 align=center><font size = 5>Assignment: SQL Notebook for Peer Assignment</font></h1>\n",
    "\n",
    "Estimated time needed: **60** minutes.\n",
    "\n",
    "## Introduction\n",
    "Using this Python notebook you will:\n",
    "\n",
    "1.  Understand the Spacex DataSet\n",
    "2.  Load the dataset  into the corresponding table in a Db2 database\n",
    "3.  Execute SQL queries to answer assignment questions \n"
   ]
  },
  {
   "cell_type": "markdown",
   "metadata": {},
   "source": [
    "## Overview of the DataSet\n",
    "\n",
    "SpaceX has gained worldwide attention for a series of historic milestones. \n",
    "\n",
    "It is the only private company ever to return a spacecraft from low-earth orbit, which it first accomplished in December 2010.\n",
    "SpaceX advertises Falcon 9 rocket launches on its website with a cost of 62 million dollars wheras other providers cost upward of 165 million dollars each, much of the savings is because Space X can reuse the first stage. \n",
    "\n",
    "\n",
    "Therefore if we can determine if the first stage will land, we can determine the cost of a launch. \n",
    "\n",
    "This information can be used if an alternate company wants to bid against SpaceX for a rocket launch.\n",
    "\n",
    "This dataset includes a record for each payload carried during a SpaceX mission into outer space.\n"
   ]
  },
  {
   "cell_type": "markdown",
   "metadata": {},
   "source": [
    "### Download the datasets\n",
    "\n",
    "This assignment requires you to load the spacex dataset.\n",
    "\n",
    "In many cases the dataset to be analyzed is available as a .CSV (comma separated values) file, perhaps on the internet. Click on the link below to download and save the dataset (.CSV file):\n",
    "\n",
    " <a href=\"https://cf-courses-data.s3.us.cloud-object-storage.appdomain.cloud/IBM-DS0321EN-SkillsNetwork/labs/module_2/data/Spacex.csv\" target=\"_blank\">Spacex DataSet</a>\n",
    "\n"
   ]
  },
  {
   "cell_type": "code",
   "execution_count": 1,
   "metadata": {
    "tags": []
   },
   "outputs": [
    {
     "name": "stdout",
     "output_type": "stream",
     "text": [
      "Collecting sqlalchemy==1.3.9\n",
      "  Downloading SQLAlchemy-1.3.9.tar.gz (6.0 MB)\n",
      "\u001b[2K     \u001b[90m━━━━━━━━━━━━━━━━━━━━━━━━━━━━━━━━━━━━━━━━\u001b[0m \u001b[32m6.0/6.0 MB\u001b[0m \u001b[31m71.8 MB/s\u001b[0m eta \u001b[36m0:00:00\u001b[0m:00:01\u001b[0m00:01\u001b[0m\n",
      "\u001b[?25h  Preparing metadata (setup.py) ... \u001b[?25ldone\n",
      "\u001b[?25hBuilding wheels for collected packages: sqlalchemy\n",
      "  Building wheel for sqlalchemy (setup.py) ... \u001b[?25ldone\n",
      "\u001b[?25h  Created wheel for sqlalchemy: filename=SQLAlchemy-1.3.9-cp37-cp37m-linux_x86_64.whl size=1159121 sha256=8f8e04d57eb556c40bb1d9fcf4d6caa6e64902c3ee0e417540b3d4793a402dbf\n",
      "  Stored in directory: /home/jupyterlab/.cache/pip/wheels/03/71/13/010faf12246f72dc76b4150e6e599d13a85b4435e06fb9e51f\n",
      "Successfully built sqlalchemy\n",
      "Installing collected packages: sqlalchemy\n",
      "  Attempting uninstall: sqlalchemy\n",
      "    Found existing installation: SQLAlchemy 1.3.24\n",
      "    Uninstalling SQLAlchemy-1.3.24:\n",
      "      Successfully uninstalled SQLAlchemy-1.3.24\n",
      "Successfully installed sqlalchemy-1.3.9\n"
     ]
    }
   ],
   "source": [
    "!pip install sqlalchemy==1.3.9\n"
   ]
  },
  {
   "cell_type": "markdown",
   "metadata": {},
   "source": [
    "### Connect to the database\n",
    "\n",
    "Let us first load the SQL extension and establish a connection with the database\n"
   ]
  },
  {
   "cell_type": "code",
   "execution_count": 2,
   "metadata": {
    "tags": []
   },
   "outputs": [],
   "source": [
    "%load_ext sql"
   ]
  },
  {
   "cell_type": "code",
   "execution_count": 39,
   "metadata": {
    "tags": []
   },
   "outputs": [],
   "source": [
    "import csv, sqlite3\n",
    "\n",
    "con = sqlite3.connect(\"my_data1.db\")\n",
    "cur = con.cursor()"
   ]
  },
  {
   "cell_type": "code",
   "execution_count": 4,
   "metadata": {
    "tags": []
   },
   "outputs": [],
   "source": [
    "!pip install -q pandas==1.1.5"
   ]
  },
  {
   "cell_type": "code",
   "execution_count": 5,
   "metadata": {
    "tags": []
   },
   "outputs": [
    {
     "data": {
      "text/plain": [
       "'Connected: @my_data1.db'"
      ]
     },
     "execution_count": 5,
     "metadata": {},
     "output_type": "execute_result"
    }
   ],
   "source": [
    "%sql sqlite:///my_data1.db"
   ]
  },
  {
   "cell_type": "code",
   "execution_count": 6,
   "metadata": {
    "tags": []
   },
   "outputs": [
    {
     "name": "stderr",
     "output_type": "stream",
     "text": [
      "/home/jupyterlab/conda/envs/python/lib/python3.7/site-packages/pandas/core/generic.py:2882: UserWarning: The spaces in these column names will not be changed. In pandas versions < 0.14, spaces were converted to underscores.\n",
      "  both result in 0.1234 being formatted as 0.12.\n"
     ]
    }
   ],
   "source": [
    "import pandas as pd\n",
    "df = pd.read_csv(\"https://cf-courses-data.s3.us.cloud-object-storage.appdomain.cloud/IBM-DS0321EN-SkillsNetwork/labs/module_2/data/Spacex.csv\")\n",
    "df.to_sql(\"SPACEXTBL\", con, if_exists='replace', index=False,method=\"multi\")"
   ]
  },
  {
   "cell_type": "markdown",
   "metadata": {},
   "source": [
    "## Tasks\n",
    "\n",
    "Now write and execute SQL queries to solve the assignment tasks.\n",
    "\n",
    "**Note: If the column names are in mixed case enclose it in double quotes\n",
    "   For Example \"Landing_Outcome\"**\n",
    "\n",
    "### Task 1\n",
    "\n",
    "\n",
    "\n",
    "\n",
    "##### Display the names of the unique launch sites  in the space mission\n"
   ]
  },
  {
   "cell_type": "code",
   "execution_count": 16,
   "metadata": {
    "tags": []
   },
   "outputs": [
    {
     "name": "stdout",
     "output_type": "stream",
     "text": [
      "CCAFS LC-40\n",
      "VAFB SLC-4E\n",
      "KSC LC-39A\n",
      "CCAFS SLC-40\n",
      "None\n"
     ]
    }
   ],
   "source": [
    "query = \"SELECT DISTINCT Launch_Site FROM SPACEXTBL\"\n",
    "cur.execute(query)\n",
    "\n",
    "# Fetch the results and print the unique launch sites\n",
    "unique_launch_sites = cur.fetchall()\n",
    "for site in unique_launch_sites:\n",
    "    print(site[0])\n"
   ]
  },
  {
   "cell_type": "markdown",
   "metadata": {},
   "source": [
    "\n",
    "### Task 2\n",
    "\n",
    "\n",
    "#####  Display 5 records where launch sites begin with the string 'CCA' \n"
   ]
  },
  {
   "cell_type": "code",
   "execution_count": 20,
   "metadata": {
    "tags": []
   },
   "outputs": [
    {
     "name": "stdout",
     "output_type": "stream",
     "text": [
      "         Date Time (UTC) Booster_Version  Launch_Site  \\\n",
      "0  06/04/2010   18:45:00  F9 v1.0  B0003  CCAFS LC-40   \n",
      "1  12/08/2010   15:43:00  F9 v1.0  B0004  CCAFS LC-40   \n",
      "2  22/05/2012    7:44:00  F9 v1.0  B0005  CCAFS LC-40   \n",
      "3  10/08/2012    0:35:00  F9 v1.0  B0006  CCAFS LC-40   \n",
      "4  03/01/2013   15:10:00  F9 v1.0  B0007  CCAFS LC-40   \n",
      "\n",
      "                                             Payload  PAYLOAD_MASS__KG_  \\\n",
      "0               Dragon Spacecraft Qualification Unit                0.0   \n",
      "1  Dragon demo flight C1, two CubeSats, barrel of...                0.0   \n",
      "2                              Dragon demo flight C2              525.0   \n",
      "3                                       SpaceX CRS-1              500.0   \n",
      "4                                       SpaceX CRS-2              677.0   \n",
      "\n",
      "       Orbit         Customer Mission_Outcome      Landing_Outcome  \n",
      "0        LEO           SpaceX         Success  Failure (parachute)  \n",
      "1  LEO (ISS)  NASA (COTS) NRO         Success  Failure (parachute)  \n",
      "2  LEO (ISS)      NASA (COTS)         Success           No attempt  \n",
      "3  LEO (ISS)       NASA (CRS)         Success           No attempt  \n",
      "4  LEO (ISS)       NASA (CRS)         Success           No attempt  \n"
     ]
    }
   ],
   "source": [
    "query = \"SELECT * FROM SPACEXTBL WHERE Launch_Site LIKE 'CCA%' LIMIT 5\"\n",
    "df_from_db = pd.read_sql_query(query, con)\n",
    "print(df_from_db)\n"
   ]
  },
  {
   "cell_type": "markdown",
   "metadata": {},
   "source": [
    "### Task 3\n",
    "\n",
    "\n",
    "\n",
    "\n",
    "##### Display the total payload mass carried by boosters launched by NASA (CRS)\n"
   ]
  },
  {
   "cell_type": "code",
   "execution_count": 21,
   "metadata": {
    "tags": []
   },
   "outputs": [
    {
     "name": "stdout",
     "output_type": "stream",
     "text": [
      "Total Payload Mass carried by boosters launched by NASA (CRS):\n",
      "48213.0\n"
     ]
    }
   ],
   "source": [
    "query = \"SELECT SUM(CAST([PAYLOAD_MASS__KG_] AS FLOAT)) AS Total_Payload_Mass FROM SPACEXTBL WHERE Customer LIKE 'NASA (CRS)%'\"\n",
    "df_from_db = pd.read_sql_query(query, con)\n",
    "\n",
    "\n",
    "# Display the total payload mass\n",
    "print(\"Total Payload Mass carried by boosters launched by NASA (CRS):\")\n",
    "print(df_from_db['Total_Payload_Mass'].values[0])"
   ]
  },
  {
   "cell_type": "markdown",
   "metadata": {},
   "source": [
    "### Task 4\n",
    "\n",
    "\n",
    "\n",
    "\n",
    "##### Display average payload mass carried by booster version F9 v1.1\n"
   ]
  },
  {
   "cell_type": "code",
   "execution_count": 22,
   "metadata": {
    "tags": []
   },
   "outputs": [
    {
     "name": "stdout",
     "output_type": "stream",
     "text": [
      "Average Payload Mass carried by booster version F9 v1.1:\n",
      "2928.4\n"
     ]
    }
   ],
   "source": [
    "query = \"SELECT AVG(CAST([PAYLOAD_MASS__KG_] AS FLOAT)) AS Avg_Payload_Mass FROM SPACEXTBL WHERE [Booster_Version] = 'F9 v1.1'\"\n",
    "df_from_db = pd.read_sql_query(query, con)\n",
    "\n",
    "# Display the average payload mass\n",
    "print(\"Average Payload Mass carried by booster version F9 v1.1:\")\n",
    "print(df_from_db['Avg_Payload_Mass'].values[0])"
   ]
  },
  {
   "cell_type": "markdown",
   "metadata": {},
   "source": [
    "### Task 5\n",
    "\n",
    "##### List the date when the first succesful landing outcome in ground pad was acheived.\n",
    "\n",
    "\n",
    "_Hint:Use min function_ \n"
   ]
  },
  {
   "cell_type": "code",
   "execution_count": 23,
   "metadata": {
    "tags": []
   },
   "outputs": [
    {
     "name": "stdout",
     "output_type": "stream",
     "text": [
      "Date of the first successful landing outcome on ground pad:\n",
      "01/08/2018\n"
     ]
    }
   ],
   "source": [
    "query = \"SELECT MIN(Date) AS First_Successful_Landing_Date FROM SPACEXTBL WHERE [Landing_Outcome] = 'Success (ground pad)'\"\n",
    "df_from_db = pd.read_sql_query(query, con)\n",
    "\n",
    "\n",
    "# Display the date of the first successful landing outcome on ground pad\n",
    "print(\"Date of the first successful landing outcome on ground pad:\")\n",
    "print(df_from_db['First_Successful_Landing_Date'].values[0])"
   ]
  },
  {
   "cell_type": "markdown",
   "metadata": {},
   "source": [
    "### Task 6\n",
    "\n",
    "##### List the names of the boosters which have success in drone ship and have payload mass greater than 4000 but less than 6000\n"
   ]
  },
  {
   "cell_type": "code",
   "execution_count": 26,
   "metadata": {
    "tags": []
   },
   "outputs": [
    {
     "name": "stdout",
     "output_type": "stream",
     "text": [
      "Names of the boosters with successful landing on drone ship and payload mass between 4000 and 6000 kg:\n",
      "['F9 FT B1022', 'F9 FT B1026', 'F9 FT  B1021.2', 'F9 FT  B1031.2']\n"
     ]
    }
   ],
   "source": [
    "query = \"SELECT [Booster_Version] FROM SPACEXTBL WHERE [Landing_Outcome] = 'Success (drone ship)' AND [PAYLOAD_MASS__KG_] > 4000 AND [PAYLOAD_MASS__KG_] < 6000\"\n",
    "df_from_db = pd.read_sql_query(query, con)\n",
    "\n",
    "# Display the names of the boosters\n",
    "print(\"Names of the boosters with successful landing on drone ship and payload mass between 4000 and 6000 kg:\")\n",
    "print(df_from_db['Booster_Version'].tolist())"
   ]
  },
  {
   "cell_type": "markdown",
   "metadata": {},
   "source": [
    "### Task 7\n",
    "\n",
    "\n",
    "\n",
    "\n",
    "##### List the total number of successful and failure mission outcomes\n"
   ]
  },
  {
   "cell_type": "code",
   "execution_count": 33,
   "metadata": {
    "tags": []
   },
   "outputs": [
    {
     "name": "stdout",
     "output_type": "stream",
     "text": [
      "Total number of mission outcomes:\n",
      "   MISSION_OUTCOME_COUNT   Launch_Site\n",
      "0                      0          None\n",
      "1                     26   CCAFS LC-40\n",
      "2                     34  CCAFS SLC-40\n",
      "3                     25    KSC LC-39A\n",
      "4                     16   VAFB SLC-4E\n"
     ]
    }
   ],
   "source": [
    "query = \"select count([Mission_Outcome]) as MISSION_OUTCOME_COUNT,[Launch_Site]  from SPACEXTBL group by [Launch_Site] \"\n",
    "#\"SELECT [Landing_Outcome], COUNT(*) AS Total_Outcomes FROM SPACEXTBL GROUP BY [Landing_Outcome]\"\n",
    "df_from_db = pd.read_sql_query(query, con)\n",
    "\n",
    "# Display the total number of successful and failure mission outcomes\n",
    "print(\"Total number of mission outcomes:\")\n",
    "print(df_from_db)"
   ]
  },
  {
   "cell_type": "markdown",
   "metadata": {},
   "source": [
    "### Task 8\n",
    "\n",
    "\n",
    "\n",
    "##### List the   names of the booster_versions which have carried the maximum payload mass. Use a subquery\n"
   ]
  },
  {
   "cell_type": "code",
   "execution_count": 34,
   "metadata": {
    "tags": []
   },
   "outputs": [
    {
     "name": "stdout",
     "output_type": "stream",
     "text": [
      "Names of the booster_versions with the maximum payload mass:\n",
      "['F9 B5 B1048.4', 'F9 B5 B1049.4', 'F9 B5 B1051.3', 'F9 B5 B1056.4', 'F9 B5 B1048.5', 'F9 B5 B1051.4', 'F9 B5 B1049.5', 'F9 B5 B1060.2 ', 'F9 B5 B1058.3 ', 'F9 B5 B1051.6', 'F9 B5 B1060.3', 'F9 B5 B1049.7 ']\n"
     ]
    }
   ],
   "source": [
    "query = \"\"\"\n",
    "    SELECT [Booster_Version]\n",
    "    FROM SPACEXTBL\n",
    "    WHERE [PAYLOAD_MASS__KG_] = (\n",
    "        SELECT MAX(CAST([PAYLOAD_MASS__KG_] AS FLOAT))\n",
    "        FROM SPACEXTBL\n",
    "    )\n",
    "\"\"\"\n",
    "df_from_db = pd.read_sql_query(query, con)\n",
    "\n",
    "\n",
    "# Display the names of the booster_versions with the maximum payload mass\n",
    "print(\"Names of the booster_versions with the maximum payload mass:\")\n",
    "print(df_from_db['Booster_Version'].tolist())"
   ]
  },
  {
   "cell_type": "markdown",
   "metadata": {},
   "source": [
    "### Task 9\n",
    "\n",
    "\n",
    "##### List the records which will display the month names, failure landing_outcomes in drone ship ,booster versions, launch_site for the months in year 2015.\n",
    "\n",
    "**Note: SQLLite does not support monthnames. So you need to use  substr(Date, 4, 2) as month to get the months and substr(Date,7,4)='2015' for year.**\n"
   ]
  },
  {
   "cell_type": "code",
   "execution_count": 35,
   "metadata": {
    "tags": []
   },
   "outputs": [
    {
     "name": "stdout",
     "output_type": "stream",
     "text": [
      "  Month_Name Booster_Version  Launch_Site       Landing_Outcome\n",
      "0    October   F9 v1.1 B1012  CCAFS LC-40  Failure (drone ship)\n",
      "1      April   F9 v1.1 B1015  CCAFS LC-40  Failure (drone ship)\n"
     ]
    }
   ],
   "source": [
    "query = \"\"\"\n",
    "    SELECT\n",
    "        CASE\n",
    "            WHEN substr(Date, 4, 2) = '01' THEN 'January'\n",
    "            WHEN substr(Date, 4, 2) = '02' THEN 'February'\n",
    "            WHEN substr(Date, 4, 2) = '03' THEN 'March'\n",
    "            WHEN substr(Date, 4, 2) = '04' THEN 'April'\n",
    "            WHEN substr(Date, 4, 2) = '05' THEN 'May'\n",
    "            WHEN substr(Date, 4, 2) = '06' THEN 'June'\n",
    "            WHEN substr(Date, 4, 2) = '07' THEN 'July'\n",
    "            WHEN substr(Date, 4, 2) = '08' THEN 'August'\n",
    "            WHEN substr(Date, 4, 2) = '09' THEN 'September'\n",
    "            WHEN substr(Date, 4, 2) = '10' THEN 'October'\n",
    "            WHEN substr(Date, 4, 2) = '11' THEN 'November'\n",
    "            WHEN substr(Date, 4, 2) = '12' THEN 'December'\n",
    "        END AS Month_Name,\n",
    "        [Booster_Version],\n",
    "        [Launch_Site],\n",
    "        [Landing_Outcome]\n",
    "    FROM SPACEXTBL\n",
    "    WHERE substr(Date, 7, 4) = '2015'\n",
    "    AND [Landing_Outcome] LIKE '%Failure (drone ship)%'\n",
    "\"\"\"\n",
    "df_from_db = pd.read_sql_query(query, con)\n",
    "# Display the records for the months in year 2015\n",
    "print(df_from_db)"
   ]
  },
  {
   "cell_type": "markdown",
   "metadata": {},
   "source": [
    "### Task 10\n",
    "\n",
    "\n",
    "\n",
    "\n",
    "##### Rank the count of landing outcomes (such as Failure (drone ship) or Success (ground pad)) between the date 2010-06-04 and 2017-03-20, in descending order.\n"
   ]
  },
  {
   "cell_type": "code",
   "execution_count": 49,
   "metadata": {
    "tags": []
   },
   "outputs": [
    {
     "name": "stdout",
     "output_type": "stream",
     "text": [
      "        Landing_Outcome  Landing_Outcome_Count\n",
      "0               Success                     19\n",
      "1            No attempt                      9\n",
      "2  Success (ground pad)                      5\n",
      "3  Success (drone ship)                      5\n",
      "4  Failure (drone ship)                      3\n",
      "5               Failure                      3\n",
      "6   Failure (parachute)                      2\n",
      "7    Controlled (ocean)                      2\n",
      "8           No attempt                       1\n"
     ]
    }
   ],
   "source": [
    "query = \"\"\"\n",
    "    SELECT [Landing_Outcome], COUNT(*) AS Landing_Outcome_Count\n",
    "    FROM SPACEXTBL\n",
    "    WHERE Date >= '06/04/2010' AND Date <= '20/03/2017'\n",
    "    GROUP BY [Landing_Outcome]\n",
    "    ORDER BY Landing_Outcome_Count DESC\n",
    "\"\"\"\n",
    "df_from_db = pd.read_sql_query(query, con)\n",
    "\n",
    "\n",
    "# Display the ranked count of landing outcomes\n",
    "print(df_from_db)"
   ]
  },
  {
   "cell_type": "markdown",
   "metadata": {},
   "source": [
    "### Reference Links\n",
    "\n",
    "* <a href =\"https://cf-courses-data.s3.us.cloud-object-storage.appdomain.cloud/IBMDeveloperSkillsNetwork-DB0201EN-SkillsNetwork/labs/Labs_Coursera_V5/labs/Lab%20-%20String%20Patterns%20-%20Sorting%20-%20Grouping/instructional-labs.md.html?origin=www.coursera.org\">Hands-on Lab : String Patterns, Sorting and Grouping</a>  \n",
    "\n",
    "*  <a  href=\"https://cf-courses-data.s3.us.cloud-object-storage.appdomain.cloud/IBMDeveloperSkillsNetwork-DB0201EN-SkillsNetwork/labs/Labs_Coursera_V5/labs/Lab%20-%20Built-in%20functions%20/Hands-on_Lab__Built-in_Functions.md.html?origin=www.coursera.org\">Hands-on Lab: Built-in functions</a>\n",
    "\n",
    "*  <a  href=\"https://cf-courses-data.s3.us.cloud-object-storage.appdomain.cloud/IBMDeveloperSkillsNetwork-DB0201EN-SkillsNetwork/labs/Labs_Coursera_V5/labs/Lab%20-%20Sub-queries%20and%20Nested%20SELECTs%20/instructional-labs.md.html?origin=www.coursera.org\">Hands-on Lab : Sub-queries and Nested SELECT Statements</a>\n",
    "\n",
    "*   <a href=\"https://cf-courses-data.s3.us.cloud-object-storage.appdomain.cloud/IBMDeveloperSkillsNetwork-DB0201EN-SkillsNetwork/labs/Module%205/DB0201EN-Week3-1-3-SQLmagic.ipynb\">Hands-on Tutorial: Accessing Databases with SQL magic</a>\n",
    "\n",
    "*  <a href= \"https://cf-courses-data.s3.us.cloud-object-storage.appdomain.cloud/IBMDeveloperSkillsNetwork-DB0201EN-SkillsNetwork/labs/Module%205/DB0201EN-Week3-1-4-Analyzing.ipynb\">Hands-on Lab: Analyzing a real World Data Set</a>\n",
    "\n",
    "\n"
   ]
  },
  {
   "cell_type": "markdown",
   "metadata": {},
   "source": [
    "## Author(s)\n",
    "\n",
    "<h4> Lakshmi Holla </h4>\n"
   ]
  },
  {
   "cell_type": "markdown",
   "metadata": {},
   "source": [
    "## Other Contributors\n",
    "\n",
    "<h4> Rav Ahuja </h4>\n"
   ]
  },
  {
   "cell_type": "markdown",
   "metadata": {},
   "source": [
    "## Change log\n",
    "| Date | Version | Changed by | Change Description |\n",
    "|------|--------|--------|---------|\n",
    "| 2021-07-09 | 0.2 |Lakshmi Holla | Changes made in magic sql|\n",
    "| 2021-05-20 | 0.1 |Lakshmi Holla | Created Initial Version |\n"
   ]
  },
  {
   "cell_type": "markdown",
   "metadata": {},
   "source": [
    "## <h3 align=\"center\"> © IBM Corporation 2021. All rights reserved. <h3/>\n"
   ]
  }
 ],
 "metadata": {
  "kernelspec": {
   "display_name": "Python",
   "language": "python",
   "name": "conda-env-python-py"
  },
  "language_info": {
   "codemirror_mode": {
    "name": "ipython",
    "version": 3
   },
   "file_extension": ".py",
   "mimetype": "text/x-python",
   "name": "python",
   "nbconvert_exporter": "python",
   "pygments_lexer": "ipython3",
   "version": "3.7.12"
  }
 },
 "nbformat": 4,
 "nbformat_minor": 4
}
